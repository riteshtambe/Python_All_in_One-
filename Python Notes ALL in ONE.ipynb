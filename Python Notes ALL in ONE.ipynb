{
 "cells": [
  {
   "cell_type": "markdown",
   "id": "3c760afd-d7f0-48ef-b7ce-ff36a01b57e2",
   "metadata": {},
   "source": [
    "# Basics Of Python \n",
    "    Various Datatypes in Python \n",
    "    Variable\n",
    "    Variable Assignment \n",
    "    Print Formatting \n",
    "    "
   ]
  },
  {
   "cell_type": "markdown",
   "id": "045564b4-f94d-4435-9c8e-adae51e5affb",
   "metadata": {},
   "source": [
    "## Various DataTypes In Python \n",
    "### Numbers "
   ]
  },
  {
   "cell_type": "code",
   "execution_count": 3,
   "id": "70c393bd-d7d2-4c70-a18a-d6506388d8de",
   "metadata": {},
   "outputs": [
    {
     "data": {
      "text/plain": [
       "2"
      ]
     },
     "execution_count": 3,
     "metadata": {},
     "output_type": "execute_result"
    }
   ],
   "source": [
    "1+1  #Addition "
   ]
  },
  {
   "cell_type": "code",
   "execution_count": 5,
   "id": "369f42c3-514e-42ba-9202-1c71c086e9be",
   "metadata": {},
   "outputs": [
    {
     "data": {
      "text/plain": [
       "0"
      ]
     },
     "execution_count": 5,
     "metadata": {},
     "output_type": "execute_result"
    }
   ],
   "source": [
    "1-1 #Substraction"
   ]
  },
  {
   "cell_type": "code",
   "execution_count": 7,
   "id": "9cfd88e8-f6ef-435d-ad09-d96be2bdc821",
   "metadata": {},
   "outputs": [
    {
     "data": {
      "text/plain": [
       "20"
      ]
     },
     "execution_count": 7,
     "metadata": {},
     "output_type": "execute_result"
    }
   ],
   "source": [
    "10*2 #Multiplication"
   ]
  },
  {
   "cell_type": "code",
   "execution_count": 9,
   "id": "00ab0b6e-cdd7-4ded-b0ac-ef9a320428c8",
   "metadata": {},
   "outputs": [
    {
     "data": {
      "text/plain": [
       "5.0"
      ]
     },
     "execution_count": 9,
     "metadata": {},
     "output_type": "execute_result"
    }
   ],
   "source": [
    "10/2 #Division"
   ]
  },
  {
   "cell_type": "code",
   "execution_count": 11,
   "id": "da780d36-39b0-4b40-a13b-b7235a1fa80b",
   "metadata": {},
   "outputs": [
    {
     "data": {
      "text/plain": [
       "0"
      ]
     },
     "execution_count": 11,
     "metadata": {},
     "output_type": "execute_result"
    }
   ],
   "source": [
    "10%2 #Modular Division"
   ]
  },
  {
   "cell_type": "code",
   "execution_count": 13,
   "id": "e0c41bd7-9ffb-4340-9592-24cf8cdc2869",
   "metadata": {},
   "outputs": [
    {
     "data": {
      "text/plain": [
       "900"
      ]
     },
     "execution_count": 13,
     "metadata": {},
     "output_type": "execute_result"
    }
   ],
   "source": [
    "30**2 # Power"
   ]
  },
  {
   "cell_type": "code",
   "execution_count": 15,
   "id": "90676ee7-101b-445c-9a11-b957d289ac5b",
   "metadata": {},
   "outputs": [],
   "source": [
    "## To Check the Datatype "
   ]
  },
  {
   "cell_type": "code",
   "execution_count": 17,
   "id": "c6e3f15b-e62a-4021-b42a-5926df74d011",
   "metadata": {},
   "outputs": [
    {
     "data": {
      "text/plain": [
       "int"
      ]
     },
     "execution_count": 17,
     "metadata": {},
     "output_type": "execute_result"
    }
   ],
   "source": [
    "type(1)"
   ]
  },
  {
   "cell_type": "code",
   "execution_count": 19,
   "id": "ee47fffb-748a-4a6b-aa92-f34f64c11e9a",
   "metadata": {},
   "outputs": [
    {
     "data": {
      "text/plain": [
       "str"
      ]
     },
     "execution_count": 19,
     "metadata": {},
     "output_type": "execute_result"
    }
   ],
   "source": [
    "type(\"str\")"
   ]
  },
  {
   "cell_type": "code",
   "execution_count": 21,
   "id": "e232715a-7941-4058-9c76-04db41fd03da",
   "metadata": {},
   "outputs": [
    {
     "data": {
      "text/plain": [
       "bool"
      ]
     },
     "execution_count": 21,
     "metadata": {},
     "output_type": "execute_result"
    }
   ],
   "source": [
    "type(True)"
   ]
  },
  {
   "cell_type": "code",
   "execution_count": 23,
   "id": "93213b58-92c9-4521-a35b-88d88685834a",
   "metadata": {},
   "outputs": [
    {
     "data": {
      "text/plain": [
       "complex"
      ]
     },
     "execution_count": 23,
     "metadata": {},
     "output_type": "execute_result"
    }
   ],
   "source": [
    "type(2+3J)"
   ]
  },
  {
   "cell_type": "code",
   "execution_count": 25,
   "id": "46e26fe0-298d-43da-8822-877081af505e",
   "metadata": {},
   "outputs": [
    {
     "data": {
      "text/plain": [
       "float"
      ]
     },
     "execution_count": 25,
     "metadata": {},
     "output_type": "execute_result"
    }
   ],
   "source": [
    "type(0.1)"
   ]
  },
  {
   "cell_type": "markdown",
   "id": "bbe7b94a-096a-470b-a99b-4b905d225b2a",
   "metadata": {},
   "source": [
    "### String"
   ]
  },
  {
   "cell_type": "code",
   "execution_count": 28,
   "id": "b0ba2b1f-69e4-4031-9c90-741a4ebd9474",
   "metadata": {},
   "outputs": [
    {
     "data": {
      "text/plain": [
       "'Hello World'"
      ]
     },
     "execution_count": 28,
     "metadata": {},
     "output_type": "execute_result"
    }
   ],
   "source": [
    "'Hello World'  # Single Quotes "
   ]
  },
  {
   "cell_type": "code",
   "execution_count": 30,
   "id": "3edd0659-e659-4750-a40f-8a0bd9365530",
   "metadata": {},
   "outputs": [
    {
     "data": {
      "text/plain": [
       "'Hello Ritesh'"
      ]
     },
     "execution_count": 30,
     "metadata": {},
     "output_type": "execute_result"
    }
   ],
   "source": [
    "\"Hello Ritesh\" # Double Quotes"
   ]
  },
  {
   "cell_type": "markdown",
   "id": "0d49351f-5217-410b-9da1-3b7ddb7940c3",
   "metadata": {},
   "source": [
    "# For Multiple paragraph or Text with Single Quotes \n",
    "\n",
    "'''\n",
    "This is the Beautiful Morning  \n",
    "We have to find the Nature with Pure heart\n",
    "'''"
   ]
  },
  {
   "cell_type": "code",
   "execution_count": 48,
   "id": "bb510535-7e0e-404f-85ad-bc03f9f3d977",
   "metadata": {},
   "outputs": [
    {
     "data": {
      "text/plain": [
       "'\\nThis is the Power of Double Quotes\\nWith Power to great responsibilities\\n'"
      ]
     },
     "execution_count": 48,
     "metadata": {},
     "output_type": "execute_result"
    }
   ],
   "source": [
    "# For Multiple paragraph or Text with Double Quotes\n",
    "\n",
    "\"\"\"\n",
    "This is the Power of Double Quotes\n",
    "With Power to great responsibilities\n",
    "\"\"\""
   ]
  },
  {
   "cell_type": "code",
   "execution_count": 50,
   "id": "a5738c88-6f01-496d-8bb6-0f46e2d29b76",
   "metadata": {},
   "outputs": [
    {
     "data": {
      "text/plain": [
       "str"
      ]
     },
     "execution_count": 50,
     "metadata": {},
     "output_type": "execute_result"
    }
   ],
   "source": [
    "type(\"Heloo\")"
   ]
  },
  {
   "cell_type": "markdown",
   "id": "3d0f7e77-d7bf-4f15-90a2-798deefdb0ae",
   "metadata": {},
   "source": [
    "### Variable Assignement"
   ]
  },
  {
   "cell_type": "code",
   "execution_count": 58,
   "id": "1b457776-e56c-4ed6-814a-01dab314aecd",
   "metadata": {},
   "outputs": [
    {
     "name": "stdout",
     "output_type": "stream",
     "text": [
      "10\n"
     ]
    }
   ],
   "source": [
    "a=10\n",
    "print(a)"
   ]
  },
  {
   "cell_type": "code",
   "execution_count": 60,
   "id": "e915c155-fa3f-461e-a1d3-c142c8576e0a",
   "metadata": {},
   "outputs": [
    {
     "data": {
      "text/plain": [
       "int"
      ]
     },
     "execution_count": 60,
     "metadata": {},
     "output_type": "execute_result"
    }
   ],
   "source": [
    "type(a)"
   ]
  },
  {
   "cell_type": "code",
   "execution_count": 62,
   "id": "8fc8c173-8db6-42fa-ae57-34b16c1cee33",
   "metadata": {},
   "outputs": [],
   "source": [
    "# Mathematical Operations using Variable Assignment\n",
    "a=10\n",
    "b=20"
   ]
  },
  {
   "cell_type": "code",
   "execution_count": 68,
   "id": "60bf04b3-b9e4-4102-9c39-2dfad63f21f6",
   "metadata": {},
   "outputs": [
    {
     "name": "stdout",
     "output_type": "stream",
     "text": [
      "30 ADD\n",
      "-10 SUB\n",
      "0.5 DIV\n",
      "200 MUL\n",
      "10 MOD\n",
      "100000000000000000000 POW\n",
      "-3.0 Equation\n"
     ]
    }
   ],
   "source": [
    "print(a+b,\"ADD\")\n",
    "print(a-b,\"SUB\")\n",
    "print(a/b,\"DIV\")\n",
    "print(a*b,\"MUL\")\n",
    "print(a%b,\"MOD\")\n",
    "print(a**b,\"POW\")\n",
    "print((a+b)/(a-b),\"Equation\")"
   ]
  },
  {
   "cell_type": "code",
   "execution_count": 72,
   "id": "65584791-fb05-403f-b167-314bac15c48c",
   "metadata": {},
   "outputs": [
    {
     "name": "stdout",
     "output_type": "stream",
     "text": [
      "Hello\n"
     ]
    }
   ],
   "source": [
    "# Various Ways of Print \n",
    "print(\"Hello\")"
   ]
  },
  {
   "cell_type": "code",
   "execution_count": 74,
   "id": "90e363bf-29ac-482f-9f1b-951d49d64116",
   "metadata": {},
   "outputs": [],
   "source": [
    "first_name = \"Ritesh\"\n",
    "last_name = \"Tambe\""
   ]
  },
  {
   "cell_type": "code",
   "execution_count": 78,
   "id": "bee123c5-924b-4673-b7b2-c4d733f48e86",
   "metadata": {},
   "outputs": [
    {
     "name": "stdout",
     "output_type": "stream",
     "text": [
      "My First Name is Ritesh and The Last Name is Tambe\n"
     ]
    }
   ],
   "source": [
    "print(\"My First Name is {} and The Last Name is {}\".format(first_name,last_name))"
   ]
  },
  {
   "cell_type": "code",
   "execution_count": 82,
   "id": "a4dfb83e-ba17-4b25-9b91-354cb013b854",
   "metadata": {},
   "outputs": [
    {
     "name": "stdout",
     "output_type": "stream",
     "text": [
      "My First Name is Ritesh and The Last Name is Tambe\n"
     ]
    }
   ],
   "source": [
    "print(\"My First Name is {first} and The Last Name is {last}\".format(first=first_name,last=last_name))"
   ]
  },
  {
   "cell_type": "code",
   "execution_count": 94,
   "id": "ec16f019-e1b8-4991-b956-8ef99e188c58",
   "metadata": {},
   "outputs": [
    {
     "data": {
      "text/plain": [
       "list"
      ]
     },
     "execution_count": 94,
     "metadata": {},
     "output_type": "execute_result"
    }
   ],
   "source": [
    "# Inbuilt Functions\n",
    "len(\"Krish\")\n",
    "type(0)\n",
    "type([1,2,3,\"3\"])"
   ]
  },
  {
   "cell_type": "markdown",
   "id": "0ff5aa21-a18c-45a5-80cd-12107189fcd7",
   "metadata": {},
   "source": [
    "# Python Data Strutures And Boolean \n",
    "- Boolean\n",
    "- Boolean And Logical Operators\n",
    "- Lists\n",
    "- Comaparison Operators\n",
    "- Dictionaries\n",
    "- Tuples\n",
    "- Sets "
   ]
  },
  {
   "cell_type": "markdown",
   "id": "3ebea678-b3e9-4d7a-bd54-97e8f14f7d1c",
   "metadata": {},
   "source": [
    "## Boolean Variables \n",
    "- Boolean values are the Two constants objects that is TRUE or FALSE.\n",
    "\n",
    "- They are used to represent truth values \n",
    "- In numeric context(for example , when used as the argument to an arithmetic operator),they behave like the integers 1 and 0,Respectively "
   ]
  },
  {
   "cell_type": "code",
   "execution_count": 101,
   "id": "f9bc0696-0cfa-427e-bbfc-4adc405d2f97",
   "metadata": {},
   "outputs": [
    {
     "data": {
      "text/plain": [
       "True"
      ]
     },
     "execution_count": 101,
     "metadata": {},
     "output_type": "execute_result"
    }
   ],
   "source": [
    "True"
   ]
  },
  {
   "cell_type": "code",
   "execution_count": 103,
   "id": "ac9ca2e2-7576-491d-bc8c-ac25cdd5d1ac",
   "metadata": {},
   "outputs": [
    {
     "data": {
      "text/plain": [
       "False"
      ]
     },
     "execution_count": 103,
     "metadata": {},
     "output_type": "execute_result"
    }
   ],
   "source": [
    "False"
   ]
  },
  {
   "cell_type": "code",
   "execution_count": 105,
   "id": "51ed1499-a1c4-4e60-bb9f-f682f53191cb",
   "metadata": {},
   "outputs": [
    {
     "name": "stdout",
     "output_type": "stream",
     "text": [
      "True False\n"
     ]
    }
   ],
   "source": [
    "print(True,False)"
   ]
  },
  {
   "cell_type": "code",
   "execution_count": 107,
   "id": "cad5b33e-dd44-45f4-b432-7e5c0f143de0",
   "metadata": {},
   "outputs": [
    {
     "data": {
      "text/plain": [
       "bool"
      ]
     },
     "execution_count": 107,
     "metadata": {},
     "output_type": "execute_result"
    }
   ],
   "source": [
    "type(True)"
   ]
  },
  {
   "cell_type": "code",
   "execution_count": 109,
   "id": "43b5796b-a85b-4c3f-93fb-25687edfc224",
   "metadata": {},
   "outputs": [
    {
     "data": {
      "text/plain": [
       "bool"
      ]
     },
     "execution_count": 109,
     "metadata": {},
     "output_type": "execute_result"
    }
   ],
   "source": [
    "type(False)"
   ]
  },
  {
   "cell_type": "code",
   "execution_count": 123,
   "id": "906073fb-f17b-4a31-b285-0f3a601cb23c",
   "metadata": {},
   "outputs": [],
   "source": [
    "my_str = \"Ritesh Tambe\""
   ]
  },
  {
   "cell_type": "code",
   "execution_count": 127,
   "id": "ce5481b2-ffe2-4a49-bb07-8a8a7226ae2c",
   "metadata": {},
   "outputs": [
    {
     "name": "stdout",
     "output_type": "stream",
     "text": [
      "1 False\n",
      "2 False\n",
      "3 False\n",
      "4 True\n",
      "5 False\n",
      "6 False\n",
      "7 False\n",
      "8 False\n",
      "9 True\n"
     ]
    }
   ],
   "source": [
    "print(\"1\",my_str.isalnum()) #Check if all characters are numbers\n",
    "print(\"2\",my_str.isalpha()) #Check if all chararecter in string is alphabetic\n",
    "print(\"3\",my_str.isdigit()) #test if string contain digit\n",
    "print(\"4\",my_str.istitle()) #test if the string first Char is capital \n",
    "print(\"5\",my_str.isupper()) #test if string contains uppercase\n",
    "print(\"6\",my_str.islower()) #test if string contains lowercase\n",
    "print(\"7\",my_str.isspace()) #test if string contains Spaces \n",
    "print(\"8\",my_str.endswith(\"d\")) #test if the string endswith letter d\n",
    "print(\"9\",my_str.startswith(\"R\")) #test if the string start with \"K\""
   ]
  },
  {
   "cell_type": "markdown",
   "id": "5a60ab8e-c746-42f9-a011-76b4003ada0f",
   "metadata": {},
   "source": [
    "## Boolean and Logical Operators \n"
   ]
  },
  {
   "cell_type": "code",
   "execution_count": 130,
   "id": "e3ccfc34-6316-41b5-80a5-972100b6f51e",
   "metadata": {},
   "outputs": [
    {
     "data": {
      "text/plain": [
       "True"
      ]
     },
     "execution_count": 130,
     "metadata": {},
     "output_type": "execute_result"
    }
   ],
   "source": [
    "True and True"
   ]
  },
  {
   "cell_type": "code",
   "execution_count": 132,
   "id": "b5a21af5-b5fc-4a14-ad3d-b5815b3b2037",
   "metadata": {},
   "outputs": [
    {
     "data": {
      "text/plain": [
       "False"
      ]
     },
     "execution_count": 132,
     "metadata": {},
     "output_type": "execute_result"
    }
   ],
   "source": [
    "True and False "
   ]
  },
  {
   "cell_type": "code",
   "execution_count": 134,
   "id": "a9df7bb5-1a6e-42da-abf1-28510716d1e2",
   "metadata": {},
   "outputs": [
    {
     "data": {
      "text/plain": [
       "True"
      ]
     },
     "execution_count": 134,
     "metadata": {},
     "output_type": "execute_result"
    }
   ],
   "source": [
    "True or True"
   ]
  },
  {
   "cell_type": "code",
   "execution_count": 136,
   "id": "6b1008d4-2730-4c6b-94a2-e0ca20da6396",
   "metadata": {},
   "outputs": [
    {
     "data": {
      "text/plain": [
       "True"
      ]
     },
     "execution_count": 136,
     "metadata": {},
     "output_type": "execute_result"
    }
   ],
   "source": [
    "True or False"
   ]
  },
  {
   "cell_type": "code",
   "execution_count": 138,
   "id": "11d0dc12-2187-4b1a-9df7-a10a7850a546",
   "metadata": {},
   "outputs": [],
   "source": [
    "str_examples = \"Hello World\"\n",
    "my_str = \"Ritesh\""
   ]
  },
  {
   "cell_type": "code",
   "execution_count": 140,
   "id": "ac9b114c-9b2a-45ff-b846-559ad410bd45",
   "metadata": {},
   "outputs": [
    {
     "data": {
      "text/plain": [
       "True"
      ]
     },
     "execution_count": 140,
     "metadata": {},
     "output_type": "execute_result"
    }
   ],
   "source": [
    "my_str.isalpha() or str_examples.isnum()"
   ]
  },
  {
   "cell_type": "markdown",
   "id": "05496e2f-c5b4-44ce-8498-1f66e2139902",
   "metadata": {},
   "source": [
    "## List \n",
    "- A list is data structure in python which is Mutable,changeable,or order sequesce of elements\n",
    "- Each Element or value that is inside of a list is called an item\n",
    "- Just as string are defined as character between quotes,list are defined by having values between square brackets []"
   ]
  },
  {
   "cell_type": "code",
   "execution_count": 146,
   "id": "ae7ebb0b-1d3f-4307-a747-5cdb89b58d3f",
   "metadata": {},
   "outputs": [
    {
     "data": {
      "text/plain": [
       "list"
      ]
     },
     "execution_count": 146,
     "metadata": {},
     "output_type": "execute_result"
    }
   ],
   "source": [
    "type([])"
   ]
  },
  {
   "cell_type": "code",
   "execution_count": 148,
   "id": "c0fab891-c15c-46c2-b2e4-6abd9c322422",
   "metadata": {},
   "outputs": [],
   "source": [
    "lst_example = []"
   ]
  },
  {
   "cell_type": "code",
   "execution_count": 150,
   "id": "30c9b1b9-6aab-4396-b0a9-2482c755d5a1",
   "metadata": {},
   "outputs": [
    {
     "data": {
      "text/plain": [
       "list"
      ]
     },
     "execution_count": 150,
     "metadata": {},
     "output_type": "execute_result"
    }
   ],
   "source": [
    "type(lst_example)"
   ]
  },
  {
   "cell_type": "code",
   "execution_count": 152,
   "id": "ab267e71-f49f-4013-a3be-65f14fae84d8",
   "metadata": {},
   "outputs": [],
   "source": [
    "lst = list()"
   ]
  },
  {
   "cell_type": "code",
   "execution_count": 154,
   "id": "4d037cb2-b051-4096-8880-26f392f802c3",
   "metadata": {},
   "outputs": [
    {
     "data": {
      "text/plain": [
       "list"
      ]
     },
     "execution_count": 154,
     "metadata": {},
     "output_type": "execute_result"
    }
   ],
   "source": [
    "type(lst)"
   ]
  },
  {
   "cell_type": "code",
   "execution_count": 158,
   "id": "00e68eb5-713e-4679-b72d-b9eabf0a3a06",
   "metadata": {},
   "outputs": [
    {
     "name": "stdout",
     "output_type": "stream",
     "text": [
      "[1, 2, 4, 5, 6, 7, 'Mathematics', (2+3j), 30.2]\n"
     ]
    }
   ],
   "source": [
    "lst = [1,2,4,5,6,7,\"Mathematics\",2+3j,30.20]\n",
    "print(lst)"
   ]
  },
  {
   "cell_type": "code",
   "execution_count": 160,
   "id": "fea95512-f412-42b6-919a-f4f530ebf5bf",
   "metadata": {},
   "outputs": [
    {
     "data": {
      "text/plain": [
       "9"
      ]
     },
     "execution_count": 160,
     "metadata": {},
     "output_type": "execute_result"
    }
   ],
   "source": [
    "len(lst)"
   ]
  },
  {
   "cell_type": "code",
   "execution_count": 162,
   "id": "d8b6a923-7ad6-4aca-a548-24aee996c3d9",
   "metadata": {},
   "outputs": [
    {
     "data": {
      "text/plain": [
       "list"
      ]
     },
     "execution_count": 162,
     "metadata": {},
     "output_type": "execute_result"
    }
   ],
   "source": [
    "type(lst)"
   ]
  },
  {
   "cell_type": "markdown",
   "id": "739ad0a9-423f-4939-b7cc-101cbdc12649",
   "metadata": {},
   "source": [
    "### List-Append"
   ]
  },
  {
   "cell_type": "code",
   "execution_count": 171,
   "id": "43441e78-2110-4d04-8e8c-35207b157832",
   "metadata": {},
   "outputs": [
    {
     "name": "stdout",
     "output_type": "stream",
     "text": [
      "[1, 2, 4, 5, 6, 7, 'Mathematics', (2+3j), 30.2, 'Ritesh Tambe', 'Ritesh Tambe']\n"
     ]
    }
   ],
   "source": [
    "## Append is the built in function which is used to add elements in the list \n",
    "lst.append(\"Ritesh Tambe\")\n",
    "print(lst)"
   ]
  },
  {
   "cell_type": "code",
   "execution_count": 173,
   "id": "06c6c091-b98d-4f6d-ad73-e6fd82cf4dd6",
   "metadata": {},
   "outputs": [
    {
     "data": {
      "text/plain": [
       "(2+3j)"
      ]
     },
     "execution_count": 173,
     "metadata": {},
     "output_type": "execute_result"
    }
   ],
   "source": [
    "## Indexing in List\n",
    "lst[7]"
   ]
  },
  {
   "cell_type": "code",
   "execution_count": 175,
   "id": "4a8fa397-61dd-47a2-830b-5530324288de",
   "metadata": {},
   "outputs": [
    {
     "data": {
      "text/plain": [
       "'Ritesh Tambe'"
      ]
     },
     "execution_count": 175,
     "metadata": {},
     "output_type": "execute_result"
    }
   ],
   "source": [
    "lst[9]"
   ]
  },
  {
   "cell_type": "code",
   "execution_count": 177,
   "id": "defb3125-26db-42e0-93ca-a6cd57c3972a",
   "metadata": {},
   "outputs": [
    {
     "data": {
      "text/plain": [
       "[2, 4, 5, 6, 7, 'Mathematics', (2+3j), 30.2, 'Ritesh Tambe', 'Ritesh Tambe']"
      ]
     },
     "execution_count": 177,
     "metadata": {},
     "output_type": "execute_result"
    }
   ],
   "source": [
    "lst[1:] #here 0th index first element is skipped and printed all the elements"
   ]
  },
  {
   "cell_type": "code",
   "execution_count": 179,
   "id": "fa5cdb60-0621-4974-9512-e386ad6db950",
   "metadata": {},
   "outputs": [
    {
     "data": {
      "text/plain": [
       "['Mathematics', (2+3j), 30.2, 'Ritesh Tambe']"
      ]
     },
     "execution_count": 179,
     "metadata": {},
     "output_type": "execute_result"
    }
   ],
   "source": [
    "lst[6:10] #Start value is Included but end value must be end+1 because if we select exact index of the last element it will be excluded "
   ]
  },
  {
   "cell_type": "code",
   "execution_count": 184,
   "id": "f48fdd81-ddd6-489d-9ca3-9e1d98d19392",
   "metadata": {},
   "outputs": [
    {
     "name": "stdout",
     "output_type": "stream",
     "text": [
      "[1, 2, 4, 5, 6, 7, 'Mathematics', (2+3j), 30.2, 'Ritesh Tambe', 'Ritesh Tambe', ['Ritesh', 'Tambe'], ['Ritesh', 'Tambe']]\n"
     ]
    }
   ],
   "source": [
    "lst.append([\"Ritesh\",\"Tambe\"])\n",
    "print(lst)"
   ]
  },
  {
   "cell_type": "markdown",
   "id": "1e678487-8bb6-4aae-84bb-7916ff7c8c00",
   "metadata": {},
   "source": [
    "### List - Insert"
   ]
  },
  {
   "cell_type": "code",
   "execution_count": 186,
   "id": "2a06d3c7-0f68-4157-893f-8b7324d20464",
   "metadata": {},
   "outputs": [],
   "source": [
    "# To add element in a speciifc Index Insert Function is used \n",
    "lst.insert(2,\"Yash\")"
   ]
  },
  {
   "cell_type": "code",
   "execution_count": 192,
   "id": "921f807a-a709-4120-805b-8b5fcb7928b7",
   "metadata": {},
   "outputs": [
    {
     "name": "stdout",
     "output_type": "stream",
     "text": [
      "[1, 2, 'Yash', 4, 5, 6, 7, 'Mathematics', (2+3j), 30.2, 'Ritesh Tambe', 'Ritesh Tambe', ['Ritesh', 'Tambe'], ['Ritesh', 'Tambe']]\n"
     ]
    }
   ],
   "source": [
    "print(lst) # Second index is changed to \"Yash\""
   ]
  },
  {
   "cell_type": "markdown",
   "id": "e8dfa3f5-9c2f-44b7-af0e-dadef40e53fa",
   "metadata": {},
   "source": [
    "### List - Extend "
   ]
  },
  {
   "cell_type": "code",
   "execution_count": 196,
   "id": "a5320a9a-d469-4d0e-9b35-e5a0fc11d8da",
   "metadata": {},
   "outputs": [],
   "source": [
    "lst = [10,11,17,20,50]\n",
    "lst.extend([60,70,80])"
   ]
  },
  {
   "cell_type": "code",
   "execution_count": 198,
   "id": "88eef3b9-13b3-48ed-9b04-5125ee3e474a",
   "metadata": {},
   "outputs": [
    {
     "name": "stdout",
     "output_type": "stream",
     "text": [
      "[10, 11, 17, 20, 50, 60, 70, 80]\n"
     ]
    }
   ],
   "source": [
    "print(lst)"
   ]
  },
  {
   "cell_type": "markdown",
   "id": "8e68006d-1d45-4965-8592-bd085afc84df",
   "metadata": {},
   "source": [
    "### Operations We can perform on list "
   ]
  },
  {
   "cell_type": "code",
   "execution_count": 201,
   "id": "e518e0a1-9070-436d-bd77-6a7b9ce87f4a",
   "metadata": {},
   "outputs": [
    {
     "data": {
      "text/plain": [
       "15"
      ]
     },
     "execution_count": 201,
     "metadata": {},
     "output_type": "execute_result"
    }
   ],
   "source": [
    "lst = [1,2,3,4,5]\n",
    "sum(lst)"
   ]
  },
  {
   "cell_type": "markdown",
   "id": "25a8c818-2bc0-4c68-b7eb-a6a3ae84b120",
   "metadata": {},
   "source": [
    "#### POP() menthod\n",
    "- By using pop we can remove last element by kepping the function parameter default\n",
    "- By Giving the index to the pop to remove element perticular index element"
   ]
  },
  {
   "cell_type": "code",
   "execution_count": 208,
   "id": "3a006410-778b-4ba0-a4e9-3e1577101888",
   "metadata": {},
   "outputs": [
    {
     "data": {
      "text/plain": [
       "4"
      ]
     },
     "execution_count": 208,
     "metadata": {},
     "output_type": "execute_result"
    }
   ],
   "source": [
    "lst.pop()"
   ]
  },
  {
   "cell_type": "markdown",
   "id": "79e553c6-9e46-4c2b-932a-248e62ae8d7e",
   "metadata": {},
   "source": [
    "### List - Count\n",
    "- Calculate Total Occurances of given element of list\n"
   ]
  },
  {
   "cell_type": "code",
   "execution_count": 217,
   "id": "26d50fdf-8f46-4fbb-bddf-ad4933a34831",
   "metadata": {},
   "outputs": [
    {
     "data": {
      "text/plain": [
       "5"
      ]
     },
     "execution_count": 217,
     "metadata": {},
     "output_type": "execute_result"
    }
   ],
   "source": [
    "lst = [1,1,1,1,1,2,3,4,5,6]\n",
    "lst.count(1)"
   ]
  },
  {
   "cell_type": "code",
   "execution_count": 219,
   "id": "1d79c282-72d6-4fed-b6b1-db5e4b10d958",
   "metadata": {},
   "outputs": [
    {
     "data": {
      "text/plain": [
       "10"
      ]
     },
     "execution_count": 219,
     "metadata": {},
     "output_type": "execute_result"
    }
   ],
   "source": [
    "# Length Calculates Total length of the list \n",
    "len(lst)"
   ]
  },
  {
   "cell_type": "code",
   "execution_count": 223,
   "id": "1b44b99b-43b1-4a2c-ab60-94ae2f681a7f",
   "metadata": {},
   "outputs": [],
   "source": [
    "# index(value,Start_Index,End_Index) -- Return the index of the first occurance .Start and End index are not necessary parameters "
   ]
  },
  {
   "cell_type": "markdown",
   "id": "710a1883-8f53-49f8-8663-2e9a1d96b82b",
   "metadata": {},
   "source": [
    "lst.index(1)"
   ]
  },
  {
   "cell_type": "code",
   "execution_count": 227,
   "id": "4d103b28-9cb9-4bef-8f76-08171a709407",
   "metadata": {},
   "outputs": [
    {
     "data": {
      "text/plain": [
       "1"
      ]
     },
     "execution_count": 227,
     "metadata": {},
     "output_type": "execute_result"
    }
   ],
   "source": [
    "lst.index(1,1,6)"
   ]
  },
  {
   "cell_type": "code",
   "execution_count": 229,
   "id": "5e543f3c-b827-4020-b5fc-1f2d7df1b315",
   "metadata": {},
   "outputs": [
    {
     "data": {
      "text/plain": [
       "1"
      ]
     },
     "execution_count": 229,
     "metadata": {},
     "output_type": "execute_result"
    }
   ],
   "source": [
    "# Min AND MAX \n",
    "min(lst)"
   ]
  },
  {
   "cell_type": "code",
   "execution_count": 231,
   "id": "a3b12d92-9888-40c0-951a-02fe1a2ee477",
   "metadata": {},
   "outputs": [
    {
     "data": {
      "text/plain": [
       "6"
      ]
     },
     "execution_count": 231,
     "metadata": {},
     "output_type": "execute_result"
    }
   ],
   "source": [
    "max(lst)"
   ]
  },
  {
   "cell_type": "markdown",
   "id": "207f4efd-8812-48bd-94ad-cf750a9d5094",
   "metadata": {},
   "source": [
    "## SETS \n",
    "- A set is a unordered collection of datatypes that is iterable,mutable,and has no duplicate elements\n",
    "- Python Sets class represent the mathematical notion of a set\n",
    "- This is based on a datastructure known as Hash Table"
   ]
  },
  {
   "cell_type": "code",
   "execution_count": 4,
   "id": "f5b23cc7-1566-4c83-b38b-99ec4684de4c",
   "metadata": {},
   "outputs": [
    {
     "name": "stdout",
     "output_type": "stream",
     "text": [
      "set()\n",
      "<class 'set'>\n"
     ]
    }
   ],
   "source": [
    "# Defining an Empty Set \n",
    "set_var = set()\n",
    "print(set_var)\n",
    "print(type(set_var))"
   ]
  },
  {
   "cell_type": "code",
   "execution_count": 6,
   "id": "8413bf14-37f1-4156-94bb-4ecf7f66497a",
   "metadata": {},
   "outputs": [
    {
     "data": {
      "text/plain": [
       "{1, 2, 3, 4, 5}"
      ]
     },
     "execution_count": 6,
     "metadata": {},
     "output_type": "execute_result"
    }
   ],
   "source": [
    "set_var = {1,2,3,4,5}\n",
    "set_var"
   ]
  },
  {
   "cell_type": "code",
   "execution_count": 12,
   "id": "879d0270-383a-446e-831e-01a2c4b83b17",
   "metadata": {},
   "outputs": [
    {
     "name": "stdout",
     "output_type": "stream",
     "text": [
      "{'Avengers', 'Iron Man', 'HitMan'}\n"
     ]
    },
    {
     "data": {
      "text/plain": [
       "set"
      ]
     },
     "execution_count": 12,
     "metadata": {},
     "output_type": "execute_result"
    }
   ],
   "source": [
    "set_var = {\"Avengers\",\"Iron Man\",\"HitMan\"}\n",
    "print(set_var) \n",
    "type(set_var)"
   ]
  },
  {
   "cell_type": "markdown",
   "id": "92fea4d3-1e44-48ba-9547-5c7e6a8ad65a",
   "metadata": {},
   "source": [
    "## In Built Functions In Set \n",
    "### SET - ADD"
   ]
  },
  {
   "cell_type": "code",
   "execution_count": 23,
   "id": "0c8b9dce-4f26-4a1f-8bb9-219f94ff0b69",
   "metadata": {},
   "outputs": [
    {
     "ename": "TypeError",
     "evalue": "'set' object is not subscriptable",
     "output_type": "error",
     "traceback": [
      "\u001b[1;31m---------------------------------------------------------------------------\u001b[0m",
      "\u001b[1;31mTypeError\u001b[0m                                 Traceback (most recent call last)",
      "Cell \u001b[1;32mIn[23], line 1\u001b[0m\n\u001b[1;32m----> 1\u001b[0m set_var[\u001b[38;5;241m1\u001b[39m] \u001b[38;5;66;03m## Indexing Is Not Allowed In Python \u001b[39;00m\n\u001b[0;32m      2\u001b[0m set_var[\u001b[38;5;124m\"\u001b[39m\u001b[38;5;124mAvengers\u001b[39m\u001b[38;5;124m\"\u001b[39m]\n",
      "\u001b[1;31mTypeError\u001b[0m: 'set' object is not subscriptable"
     ]
    }
   ],
   "source": [
    "set_var[1] ## Indexing Is Not Allowed In Python \n",
    "set_var[\"Avengers\"]"
   ]
  },
  {
   "cell_type": "code",
   "execution_count": 28,
   "id": "e53b49b7-5edf-4bd8-a0f1-5679c65f9c4f",
   "metadata": {},
   "outputs": [
    {
     "name": "stdout",
     "output_type": "stream",
     "text": [
      "{'Avengers', 'Hulk', 'Iron Man', 'HitMan'}\n"
     ]
    }
   ],
   "source": [
    "set_var.add(\"Hulk\")\n",
    "print(set_var)"
   ]
  },
  {
   "cell_type": "code",
   "execution_count": 31,
   "id": "eb445d7a-30bf-4ee2-9559-1a60989bb832",
   "metadata": {},
   "outputs": [],
   "source": []
  },
  {
   "cell_type": "markdown",
   "id": "b23aeb35-8a40-4770-beeb-afddddcebd4f",
   "metadata": {},
   "source": [
    "## SET - DIFFERENCE \n",
    "- All The common element in the Both The Set "
   ]
  },
  {
   "cell_type": "code",
   "execution_count": 52,
   "id": "3c3c5c20-efd9-4a67-8516-a111467985db",
   "metadata": {},
   "outputs": [],
   "source": [
    "set1 = {\"Avengers\",\"Iron Man\",\"HitMan\"}\n",
    "set2 = {\"Avengers\",\"Iron Man\",\"HitMan\",\"Hulk2\"}"
   ]
  },
  {
   "cell_type": "code",
   "execution_count": 35,
   "id": "5f6d86b8-cb28-4eb8-936a-8a7bdc527818",
   "metadata": {},
   "outputs": [
    {
     "data": {
      "text/plain": [
       "{'Hulk2'}"
      ]
     },
     "execution_count": 35,
     "metadata": {},
     "output_type": "execute_result"
    }
   ],
   "source": [
    "# Set Difference\n",
    "set2.difference(set1)"
   ]
  },
  {
   "cell_type": "code",
   "execution_count": 54,
   "id": "c84059b5-4361-409c-b1f6-26a889b2ff12",
   "metadata": {},
   "outputs": [
    {
     "data": {
      "text/plain": [
       "{'Avengers', 'HitMan', 'Hulk2', 'Iron Man'}"
      ]
     },
     "execution_count": 54,
     "metadata": {},
     "output_type": "execute_result"
    }
   ],
   "source": [
    "set2"
   ]
  },
  {
   "cell_type": "code",
   "execution_count": 46,
   "id": "2ef9f502-b5fc-4282-952f-9e0bfbed2f23",
   "metadata": {},
   "outputs": [],
   "source": [
    "set2.difference_update(set1)"
   ]
  },
  {
   "cell_type": "code",
   "execution_count": 50,
   "id": "17212dac-f1c5-43f5-af43-d3e176c58e19",
   "metadata": {},
   "outputs": [
    {
     "data": {
      "text/plain": [
       "{'Hulk2'}"
      ]
     },
     "execution_count": 50,
     "metadata": {},
     "output_type": "execute_result"
    }
   ],
   "source": [
    "set2"
   ]
  },
  {
   "cell_type": "markdown",
   "id": "b162b41b-18a5-4e22-a6db-e0a5d20b2a9d",
   "metadata": {},
   "source": [
    "## SET - UNION\n",
    "Union\r\n",
    "The union() method returns a new set with all items from both sets."
   ]
  },
  {
   "cell_type": "code",
   "execution_count": 58,
   "id": "eba8e16d-27aa-4d9d-8eea-56383281d69f",
   "metadata": {},
   "outputs": [
    {
     "name": "stdout",
     "output_type": "stream",
     "text": [
      "{1, 2, 3, 'a', 'b', 'c'}\n"
     ]
    }
   ],
   "source": [
    "set1 = {\"a\", \"b\", \"c\"}\n",
    "set2 = {1, 2, 3}\n",
    "\n",
    "set3 = set1.union(set2)\n",
    "print(set3)"
   ]
  },
  {
   "cell_type": "code",
   "execution_count": 60,
   "id": "ce7b7942-6325-4f7a-8b9a-c470ec857b6a",
   "metadata": {},
   "outputs": [
    {
     "name": "stdout",
     "output_type": "stream",
     "text": [
      "{1, 2, 3, 'a', 'b', 'c'}\n"
     ]
    }
   ],
   "source": [
    "# You can use the | operator instead of the union() method, and you will get the same result.\n",
    "set3 = set1 | set2\n",
    "print(set3)"
   ]
  },
  {
   "cell_type": "code",
   "execution_count": 62,
   "id": "eb4af11a-27c8-4eb0-aa14-7a9c637ce2f1",
   "metadata": {},
   "outputs": [
    {
     "name": "stdout",
     "output_type": "stream",
     "text": [
      "{1, 2, 3, 'cherry', 'apple', 'Elena', 'c', 'a', 'John', 'bananas', 'b'}\n"
     ]
    }
   ],
   "source": [
    "\"\"\"\n",
    "Join Multiple Sets\n",
    "All the joining methods and operators can be used to join multiple sets.\n",
    "When using a method, just add more sets in the parentheses, separated by commas:\n",
    "\"\"\"\n",
    "\n",
    "set1 = {\"a\", \"b\", \"c\"}\n",
    "set2 = {1, 2, 3}\n",
    "set3 = {\"John\", \"Elena\"}\n",
    "set4 = {\"apple\", \"bananas\", \"cherry\"}\n",
    "\n",
    "myset = set1.union(set2, set3, set4)\n",
    "print(myset)"
   ]
  },
  {
   "cell_type": "code",
   "execution_count": 64,
   "id": "b584ec88-27c2-4570-ba23-a875a12ad8bd",
   "metadata": {},
   "outputs": [
    {
     "name": "stdout",
     "output_type": "stream",
     "text": [
      "{1, 2, 3, 'cherry', 'apple', 'Elena', 'c', 'a', 'John', 'bananas', 'b'}\n"
     ]
    }
   ],
   "source": [
    "# When using the | operator, separate the sets with more | operators\n",
    "# Note: The  | operator only allows you to join sets with sets, and not with other data types like you can with the  union() method.\n",
    "\n",
    "myset = set1 | set2 | set3 |set4\n",
    "print(myset)\n"
   ]
  },
  {
   "cell_type": "markdown",
   "id": "32e8861f-d948-4f8b-a7b9-125fe3935a3a",
   "metadata": {},
   "source": [
    "## SET - UPDATE\n",
    "- The update() method inserts all items from one set into another.\n",
    "- \r\n",
    "The update() changes the original set, and does not return a new set."
   ]
  },
  {
   "cell_type": "code",
   "execution_count": 68,
   "id": "e5f2ec3d-b79a-438e-b9bf-c49fea768c85",
   "metadata": {},
   "outputs": [
    {
     "name": "stdout",
     "output_type": "stream",
     "text": [
      "{1, 2, 3, 'a', 'b', 'c'}\n"
     ]
    }
   ],
   "source": [
    "# The update() method inserts the items in set2 into set1\n",
    "# Note: Both union() and update() will exclude any duplicate items.\n",
    "\n",
    "set1 = {\"a\", \"b\" , \"c\"}\n",
    "set2 = {1, 2, 3}\n",
    "\n",
    "set1.update(set2)\n",
    "print(set1)"
   ]
  },
  {
   "cell_type": "markdown",
   "id": "47e1ca58-92b4-4aa8-8e2c-09df0c018fb1",
   "metadata": {},
   "source": [
    "## SET - INTERSECTION\n",
    "- Keep ONLY the duplicates\n",
    "- The intersection() method will return a new set, that only contains the items that are present in both sets.\n",
    "\n"
   ]
  },
  {
   "cell_type": "code",
   "execution_count": 73,
   "id": "a7dccc9e-1d8c-4bf4-82aa-91a876d89473",
   "metadata": {},
   "outputs": [
    {
     "name": "stdout",
     "output_type": "stream",
     "text": [
      "{'apple'}\n"
     ]
    }
   ],
   "source": [
    "set1 = {\"apple\", \"banana\", \"cherry\"}\n",
    "set2 = {\"google\", \"microsoft\", \"apple\"}\n",
    "\n",
    "set3 = set1.intersection(set2)\n",
    "print(set3)"
   ]
  },
  {
   "cell_type": "code",
   "execution_count": 75,
   "id": "7945f4ae-529b-4af3-a659-e291dd311402",
   "metadata": {},
   "outputs": [
    {
     "name": "stdout",
     "output_type": "stream",
     "text": [
      "{'apple'}\n"
     ]
    }
   ],
   "source": [
    "# You can use the & operator instead of the intersection() method, and you will get the same result.\n",
    "# Use & to join two sets:\n",
    "# Note: The & operator only allows you to join sets with sets, and not with other data types like you can with the intersection() method.\n",
    "\n",
    "set1 = {\"apple\", \"banana\", \"cherry\"}\n",
    "set2 = {\"google\", \"microsoft\", \"apple\"}\n",
    "\n",
    "set3 = set1 & set2\n",
    "print(set3)\n"
   ]
  },
  {
   "cell_type": "code",
   "execution_count": 77,
   "id": "4e25c507-748f-4995-aec6-be29341662f8",
   "metadata": {},
   "outputs": [
    {
     "name": "stdout",
     "output_type": "stream",
     "text": [
      "{'apple'}\n"
     ]
    }
   ],
   "source": [
    "# The intersection_update() method will also keep ONLY the duplicates, but it will change the original set instead of returning a new set.\n",
    "# Keep the items that exist in both set1, and set2:\n",
    "\n",
    "set1 = {\"apple\", \"banana\", \"cherry\"}\n",
    "set2 = {\"google\", \"microsoft\", \"apple\"}\n",
    "\n",
    "set1.intersection_update(set2)\n",
    "\n",
    "print(set1)"
   ]
  },
  {
   "cell_type": "code",
   "execution_count": 79,
   "id": "05428568-e652-476c-9f25-25cd221cd74b",
   "metadata": {},
   "outputs": [
    {
     "name": "stdout",
     "output_type": "stream",
     "text": [
      "{False, 1, 'apple'}\n"
     ]
    }
   ],
   "source": [
    "# The values True and 1 are considered the same value. The same goes for False and 0.\n",
    "set1 = {\"apple\", 1,  \"banana\", 0, \"cherry\"}\n",
    "set2 = {False, \"google\", 1, \"apple\", 2, True}\n",
    "\n",
    "set3 = set1.intersection(set2)\n",
    "\n",
    "print(set3)\n"
   ]
  },
  {
   "cell_type": "code",
   "execution_count": 87,
   "id": "647fd24a-4602-4a93-8889-429a59ecff0f",
   "metadata": {},
   "outputs": [
    {
     "data": {
      "text/plain": [
       "set()"
      ]
     },
     "execution_count": 87,
     "metadata": {},
     "output_type": "execute_result"
    }
   ],
   "source": [
    "# More Basic Inbuilt Functions of Sets are as Follows \n",
    "set1.clear() #Remove all the elements From the set \n",
    "set3 = set1.copy() #Shallow copy of the set\n",
    "set1.discard(\"apple\") #Remove an element from a set if it is a member.Unlike set.remove(), the discard() method does not raise an exception when an element is missing from the set.\n",
    "set1.pop() # Remove and return an arbitrary set element.Raises KeyError if the set is empty."
   ]
  },
  {
   "cell_type": "code",
   "execution_count": 89,
   "id": "bae32ae2-5158-4b70-8050-99c86bb0af47",
   "metadata": {},
   "outputs": [
    {
     "name": "stdout",
     "output_type": "stream",
     "text": [
      "apple\n",
      "cherry\n",
      "banana\n"
     ]
    }
   ],
   "source": [
    "# You can loop through the set items by using a for loop:\n",
    "\n",
    "# ExampleGet your own Python Server\n",
    "# Loop through the set, and print the values:\n",
    "\n",
    "thisset = {\"apple\", \"banana\", \"cherry\"}\n",
    "\n",
    "for x in thisset:\n",
    "  print(x)"
   ]
  },
  {
   "cell_type": "markdown",
   "id": "9ddf0332-e857-4246-86c3-2ad3c3d3d3a2",
   "metadata": {},
   "source": [
    "# DICTIONARY\n",
    "- Dictionary items are ordered, changeable, and do not allow duplicates and Indexed\n",
    "- In python dictionaries are written in curly braces\n",
    "- They Have Keys and Values "
   ]
  },
  {
   "cell_type": "code",
   "execution_count": 93,
   "id": "d2606e2e-c378-4675-b058-382715548adf",
   "metadata": {},
   "outputs": [],
   "source": [
    "dic = {}"
   ]
  },
  {
   "cell_type": "code",
   "execution_count": 95,
   "id": "a4158228-4a50-42c3-a11f-123a703a0400",
   "metadata": {},
   "outputs": [
    {
     "data": {
      "text/plain": [
       "dict"
      ]
     },
     "execution_count": 95,
     "metadata": {},
     "output_type": "execute_result"
    }
   ],
   "source": [
    "type(dic)"
   ]
  },
  {
   "cell_type": "code",
   "execution_count": 99,
   "id": "a9c51317-9b47-47b4-9c0e-6531bb704c1e",
   "metadata": {},
   "outputs": [],
   "source": [
    "# lets Create Dictionary\n",
    "my_dict = {\"Car1\":\"Audi\",\"Car2\":\"Mercadies\",\"Car3\":\"BMW\"}"
   ]
  },
  {
   "cell_type": "code",
   "execution_count": 101,
   "id": "ef3c7198-bded-4206-a0a1-81877f55fb91",
   "metadata": {},
   "outputs": [
    {
     "data": {
      "text/plain": [
       "'Audi'"
      ]
     },
     "execution_count": 101,
     "metadata": {},
     "output_type": "execute_result"
    }
   ],
   "source": [
    "# Accessing the Elements In the Dictionary '\n",
    "my_dict[\"Car1\"]"
   ]
  },
  {
   "cell_type": "code",
   "execution_count": 103,
   "id": "ced6b3c3-b1e6-423b-9d16-95640e4f4836",
   "metadata": {},
   "outputs": [],
   "source": [
    "# Changing the Value of the Key \n",
    "my_dict[\"Car2\"] = \"Lamborghini\""
   ]
  },
  {
   "cell_type": "code",
   "execution_count": 105,
   "id": "dd5bc0c6-df01-40df-a23d-712b651bdffd",
   "metadata": {},
   "outputs": [
    {
     "name": "stdout",
     "output_type": "stream",
     "text": [
      "{'Car1': 'Audi', 'Car2': 'Lamborghini', 'Car3': 'BMW'}\n"
     ]
    }
   ],
   "source": [
    "print(my_dict)"
   ]
  },
  {
   "cell_type": "code",
   "execution_count": 107,
   "id": "082f9f19-bb43-49fb-847b-f5871900f50f",
   "metadata": {},
   "outputs": [
    {
     "name": "stdout",
     "output_type": "stream",
     "text": [
      "Car1\n",
      "Car2\n",
      "Car3\n"
     ]
    }
   ],
   "source": [
    "# Loop Through the dictionaries keys \n",
    "for x in my_dict:\n",
    "    print(x)"
   ]
  },
  {
   "cell_type": "code",
   "execution_count": 109,
   "id": "d12c42a3-7e4d-4f63-8a55-8ece9a9e0940",
   "metadata": {},
   "outputs": [
    {
     "name": "stdout",
     "output_type": "stream",
     "text": [
      "Audi\n",
      "Lamborghini\n",
      "BMW\n"
     ]
    }
   ],
   "source": [
    "# Loop Through The Dictionary Values \n",
    "for x in my_dict.values():\n",
    "    print(x)"
   ]
  },
  {
   "cell_type": "code",
   "execution_count": 111,
   "id": "6d8d0fc2-dfef-4f86-9153-6535f74b3b2b",
   "metadata": {},
   "outputs": [
    {
     "name": "stdout",
     "output_type": "stream",
     "text": [
      "('Car1', 'Audi')\n",
      "('Car2', 'Lamborghini')\n",
      "('Car3', 'BMW')\n"
     ]
    }
   ],
   "source": [
    "# Loop for accessing Both keys and Values\n",
    "for x in my_dict.items():\n",
    "    print(x)"
   ]
  },
  {
   "cell_type": "code",
   "execution_count": 113,
   "id": "56a41039-918d-4e15-9522-3bc8a23599f7",
   "metadata": {},
   "outputs": [],
   "source": [
    "car1_model = {\"Mercedes\":1960}\n",
    "car2_model = {\"Audi\":1970}\n",
    "car3_model = {\"Ambassador\":1980}"
   ]
  },
  {
   "cell_type": "code",
   "execution_count": 115,
   "id": "e0fb2aa4-4a80-46af-9a94-6160da162f62",
   "metadata": {},
   "outputs": [],
   "source": [
    "car_models = {\"Model1\":car1_model,\"Model2\":car2_model,\"Model3\":car3_model}"
   ]
  },
  {
   "cell_type": "code",
   "execution_count": 117,
   "id": "5c9cc600-7f03-491c-b4a7-a9422f84e845",
   "metadata": {},
   "outputs": [
    {
     "name": "stdout",
     "output_type": "stream",
     "text": [
      "{'Model1': {'Mercedes': 1960}, 'Model2': {'Audi': 1970}, 'Model3': {'Ambassador': 1980}}\n"
     ]
    }
   ],
   "source": [
    "print(car_models)"
   ]
  },
  {
   "cell_type": "code",
   "execution_count": 119,
   "id": "1613bb01-e3da-41bc-b515-57879765d657",
   "metadata": {},
   "outputs": [
    {
     "name": "stdout",
     "output_type": "stream",
     "text": [
      "('Model1', {'Mercedes': 1960})\n",
      "('Model2', {'Audi': 1970})\n",
      "('Model3', {'Ambassador': 1980})\n"
     ]
    }
   ],
   "source": [
    "for x in car_models.items():\n",
    "    print(x)"
   ]
  },
  {
   "cell_type": "code",
   "execution_count": 121,
   "id": "9c50ccd4-4144-403c-b8ac-a6e621a8d07c",
   "metadata": {},
   "outputs": [
    {
     "name": "stdout",
     "output_type": "stream",
     "text": [
      "1960\n"
     ]
    }
   ],
   "source": [
    "## For Accessing the values of the Nested Dictionary \n",
    "print(car_models[\"Model1\"][\"Mercedes\"])"
   ]
  },
  {
   "cell_type": "code",
   "execution_count": 124,
   "id": "41872ba5-fccb-4c43-9db6-ae4c9ef35e74",
   "metadata": {},
   "outputs": [
    {
     "name": "stdout",
     "output_type": "stream",
     "text": [
      "{'name': 'John', 'age': 36, 'country': 'Norway'}\n"
     ]
    }
   ],
   "source": [
    "# The dict() Constructor\n",
    "# It is also possible to use the dict() constructor to make a dictionary.\n",
    "\n",
    "# Example\n",
    "# Using the dict() method to make a dictionary:\n",
    "\n",
    "thisdict = dict(name = \"John\", age = 36, country = \"Norway\")\n",
    "print(thisdict)\n"
   ]
  },
  {
   "cell_type": "markdown",
   "id": "a7353f9e-2b8a-4955-be32-22690addb568",
   "metadata": {},
   "source": [
    "# Tuples\n",
    "Tuples are used to store multiple items in a single variable.\r\n",
    "\r\n",
    "Tuple is one of 4 built-in data types in Python used to store collections of data, the other 3 are List, Set, and Dictionary, all with differe t qualities and usage.\r\n",
    "\r\n",
    "A tuple is a collection which is ordered and unchangeable.\r\n",
    "\r\n",
    "Tuples are written with round bra\n",
    "\n",
    "Allow Duplicates\n",
    "ckets."
   ]
  },
  {
   "cell_type": "code",
   "execution_count": 131,
   "id": "1a5e2f0a-8dec-4be9-b629-95b8f763c445",
   "metadata": {},
   "outputs": [
    {
     "data": {
      "text/plain": [
       "tuple"
      ]
     },
     "execution_count": 131,
     "metadata": {},
     "output_type": "execute_result"
    }
   ],
   "source": [
    "## Creating an Empty Tuples \n",
    "my_tuples = tuple()\n",
    "type(my_tuples)"
   ]
  },
  {
   "cell_type": "code",
   "execution_count": 137,
   "id": "5848dc5c-8df5-44bd-a3a0-9193fd8ec5a2",
   "metadata": {},
   "outputs": [
    {
     "data": {
      "text/plain": [
       "tuple"
      ]
     },
     "execution_count": 137,
     "metadata": {},
     "output_type": "execute_result"
    }
   ],
   "source": [
    "my_tuples=()\n",
    "type(my_tuples)"
   ]
  },
  {
   "cell_type": "code",
   "execution_count": 141,
   "id": "fa44901a-8ea1-41b9-995b-e82193048a82",
   "metadata": {},
   "outputs": [
    {
     "data": {
      "text/plain": [
       "('Matter', 'Of', 'India', 1, 23, 4.4)"
      ]
     },
     "execution_count": 141,
     "metadata": {},
     "output_type": "execute_result"
    }
   ],
   "source": [
    "my_tuple = (\"Matter\",\"Of\",\"India\",1,23,4.4)\n",
    "my_tuple"
   ]
  },
  {
   "cell_type": "code",
   "execution_count": 145,
   "id": "d815357f-f11e-428a-a43d-92e55a252ddf",
   "metadata": {},
   "outputs": [
    {
     "data": {
      "text/plain": [
       "'Matter'"
      ]
     },
     "execution_count": 145,
     "metadata": {},
     "output_type": "execute_result"
    }
   ],
   "source": [
    "# Indexing is Possible but changing the elements in the tuple is not possible \n",
    "my_tuple[0]"
   ]
  },
  {
   "cell_type": "markdown",
   "id": "3d143a57-eb62-4616-bacc-b29797c8b3a8",
   "metadata": {},
   "source": [
    "# Numpy And Inbuilt Functions \n",
    "## Numpy \n",
    "- Numpy is a general purpose array-processig package.\n",
    "- It provides High-Performance multidimensional array object and tools for working with these arrays.\n",
    "- It is the fundamental package for scientific computing with python.\n",
    "\n",
    "### What is an array \n",
    "An Array is a Datastructure that stores values of Same Data Types.\n",
    "In python this is the main difference between array and lists.\n",
    "While Pyhon lists can contain values corresponding to different data types, arrays in python can only contains values corresponding to same data type\n",
    "\n",
    "#### Reference Type and Value type "
   ]
  },
  {
   "cell_type": "code",
   "execution_count": 158,
   "id": "0de05855-e6f8-479e-9500-0000ef195668",
   "metadata": {},
   "outputs": [],
   "source": [
    "## Intially Lets import Numpy \n",
    "import numpy as np \n"
   ]
  },
  {
   "cell_type": "code",
   "execution_count": 207,
   "id": "dc7b8a93-8ef7-4ca0-b3c3-bd32a12d442d",
   "metadata": {},
   "outputs": [
    {
     "name": "stdout",
     "output_type": "stream",
     "text": [
      "[1 2 3 4 5]\n"
     ]
    }
   ],
   "source": [
    "my_list = [1,2,3,4,5]\n",
    "arr = np.array(my_list)\n",
    "print(arr)"
   ]
  },
  {
   "cell_type": "code",
   "execution_count": 164,
   "id": "2ef297a1-347b-4f15-ba78-7fa7f8fd399b",
   "metadata": {},
   "outputs": [
    {
     "data": {
      "text/plain": [
       "numpy.ndarray"
      ]
     },
     "execution_count": 164,
     "metadata": {},
     "output_type": "execute_result"
    }
   ],
   "source": [
    "type(arr)"
   ]
  },
  {
   "cell_type": "code",
   "execution_count": 191,
   "id": "a4b4db87-ea30-4c3a-99cf-3eb4478a1946",
   "metadata": {},
   "outputs": [
    {
     "data": {
      "text/plain": [
       "array([[1, 2, 3, 4, 5],\n",
       "       [2, 3, 4, 5, 6],\n",
       "       [9, 7, 6, 8, 9]])"
      ]
     },
     "execution_count": 191,
     "metadata": {},
     "output_type": "execute_result"
    }
   ],
   "source": [
    "## Multidimensional array \n",
    "my_lst1=[1,2,3,4,5]\n",
    "my_lst2=[2,3,4,5,6]\n",
    "my_lst3=[9,7,6,8,9]\n",
    "\n",
    "arr1 = np.array([my_lst1,my_lst2,my_lst3])\n",
    "arr1"
   ]
  },
  {
   "cell_type": "code",
   "execution_count": 172,
   "id": "50727f25-b3b1-46f8-9dcf-53a5fa6d269a",
   "metadata": {},
   "outputs": [
    {
     "data": {
      "text/plain": [
       "numpy.ndarray"
      ]
     },
     "execution_count": 172,
     "metadata": {},
     "output_type": "execute_result"
    }
   ],
   "source": [
    "type(arr)"
   ]
  },
  {
   "cell_type": "code",
   "execution_count": 175,
   "id": "94d58a7a-0c58-499f-b8db-c1f9b1bc48e1",
   "metadata": {},
   "outputs": [
    {
     "data": {
      "text/plain": [
       "(3, 5)"
      ]
     },
     "execution_count": 175,
     "metadata": {},
     "output_type": "execute_result"
    }
   ],
   "source": [
    "## check the shape of the array\n",
    "arr.shape"
   ]
  },
  {
   "cell_type": "markdown",
   "id": "62b7adc8-d788-4651-8356-7ec09f6e7e9f",
   "metadata": {},
   "source": [
    "### Indexing"
   ]
  },
  {
   "cell_type": "code",
   "execution_count": 185,
   "id": "0040b63c-6231-401d-8fa6-09dcdcebb155",
   "metadata": {},
   "outputs": [
    {
     "data": {
      "text/plain": [
       "array([1, 2, 3, 4, 5])"
      ]
     },
     "execution_count": 185,
     "metadata": {},
     "output_type": "execute_result"
    }
   ],
   "source": [
    "# Accessing the array Elements\n",
    "arr\n"
   ]
  },
  {
   "cell_type": "code",
   "execution_count": 187,
   "id": "dbb3aecb-5422-452c-bc2a-a6c628090749",
   "metadata": {},
   "outputs": [
    {
     "data": {
      "text/plain": [
       "4"
      ]
     },
     "execution_count": 187,
     "metadata": {},
     "output_type": "execute_result"
    }
   ],
   "source": [
    "arr[3]"
   ]
  },
  {
   "cell_type": "code",
   "execution_count": 193,
   "id": "88083b54-5407-4d6f-8dda-87d838e05693",
   "metadata": {},
   "outputs": [
    {
     "data": {
      "text/plain": [
       "array([[1, 2, 3, 4, 5],\n",
       "       [2, 3, 4, 5, 6],\n",
       "       [9, 7, 6, 8, 9]])"
      ]
     },
     "execution_count": 193,
     "metadata": {},
     "output_type": "execute_result"
    }
   ],
   "source": [
    "arr1"
   ]
  },
  {
   "cell_type": "code",
   "execution_count": 201,
   "id": "b365b059-b7b3-4ad9-8405-f4a58d44b46b",
   "metadata": {},
   "outputs": [
    {
     "data": {
      "text/plain": [
       "array([[4, 5],\n",
       "       [6, 8]])"
      ]
     },
     "execution_count": 201,
     "metadata": {},
     "output_type": "execute_result"
    }
   ],
   "source": [
    "arr1[1:,2:4]"
   ]
  },
  {
   "cell_type": "code",
   "execution_count": 203,
   "id": "8f35aa71-878d-4205-8d41-b74c97d27d77",
   "metadata": {},
   "outputs": [
    {
     "data": {
      "text/plain": [
       "array([[3, 4, 5],\n",
       "       [7, 6, 8]])"
      ]
     },
     "execution_count": 203,
     "metadata": {},
     "output_type": "execute_result"
    }
   ],
   "source": [
    "arr1[1:,1:4]"
   ]
  },
  {
   "cell_type": "code",
   "execution_count": 205,
   "id": "eade0c18-8e8a-4cbe-af7e-305716da95d0",
   "metadata": {},
   "outputs": [
    {
     "data": {
      "text/plain": [
       "array([[3, 4],\n",
       "       [4, 5],\n",
       "       [6, 8]])"
      ]
     },
     "execution_count": 205,
     "metadata": {},
     "output_type": "execute_result"
    }
   ],
   "source": [
    "arr1[:,2:4]"
   ]
  },
  {
   "cell_type": "code",
   "execution_count": 209,
   "id": "9e4f1ad2-8fdb-4421-b6f8-7ec2421c5c80",
   "metadata": {},
   "outputs": [
    {
     "data": {
      "text/plain": [
       "array([1, 2, 3, 4, 5])"
      ]
     },
     "execution_count": 209,
     "metadata": {},
     "output_type": "execute_result"
    }
   ],
   "source": [
    "arr"
   ]
  },
  {
   "cell_type": "code",
   "execution_count": 211,
   "id": "5ee64fd4-6218-4849-9eee-b70288d7c216",
   "metadata": {},
   "outputs": [],
   "source": [
    "arr[3:]=100"
   ]
  },
  {
   "cell_type": "code",
   "execution_count": 213,
   "id": "90366c8a-7592-47f3-9e49-b72e832acb71",
   "metadata": {},
   "outputs": [
    {
     "data": {
      "text/plain": [
       "array([  1,   2,   3, 100, 100])"
      ]
     },
     "execution_count": 213,
     "metadata": {},
     "output_type": "execute_result"
    }
   ],
   "source": [
    "arr"
   ]
  },
  {
   "cell_type": "code",
   "execution_count": 215,
   "id": "9f1142c4-7ddc-4cd7-9848-c8cc693f4bfb",
   "metadata": {},
   "outputs": [
    {
     "data": {
      "text/plain": [
       "array([ True, False, False, False, False])"
      ]
     },
     "execution_count": 215,
     "metadata": {},
     "output_type": "execute_result"
    }
   ],
   "source": [
    "## Some conditions very useful in EDA \n",
    "val = 2\n",
    "arr<2"
   ]
  },
  {
   "cell_type": "code",
   "execution_count": 219,
   "id": "c89df483-12b7-4b90-befb-0dece2ffab8b",
   "metadata": {},
   "outputs": [
    {
     "data": {
      "text/plain": [
       "array([  3, 100, 100])"
      ]
     },
     "execution_count": 219,
     "metadata": {},
     "output_type": "execute_result"
    }
   ],
   "source": [
    "arr[arr>2]"
   ]
  },
  {
   "cell_type": "code",
   "execution_count": 221,
   "id": "a459fd56-9694-4e22-bc49-129f18082813",
   "metadata": {},
   "outputs": [
    {
     "data": {
      "text/plain": [
       "array([[0, 1],\n",
       "       [2, 3],\n",
       "       [4, 5],\n",
       "       [6, 7],\n",
       "       [8, 9]])"
      ]
     },
     "execution_count": 221,
     "metadata": {},
     "output_type": "execute_result"
    }
   ],
   "source": [
    "## Creating arrays and Reshapes \n",
    "np.arange(0,10).reshape(5,2)"
   ]
  },
  {
   "cell_type": "code",
   "execution_count": 225,
   "id": "99e2ee51-d4bb-423e-84fe-2bcb4601da12",
   "metadata": {},
   "outputs": [
    {
     "data": {
      "text/plain": [
       "array([[0, 1, 2, 3, 4],\n",
       "       [5, 6, 7, 8, 9]])"
      ]
     },
     "execution_count": 225,
     "metadata": {},
     "output_type": "execute_result"
    }
   ],
   "source": [
    "arr1 = np.arange(0,10).reshape(2,5)\n",
    "arr1"
   ]
  },
  {
   "cell_type": "code",
   "execution_count": 229,
   "id": "7fb2509e-6645-4c58-8f12-1b6c01428b2b",
   "metadata": {},
   "outputs": [
    {
     "data": {
      "text/plain": [
       "array([[0, 1, 2, 3, 4],\n",
       "       [5, 6, 7, 8, 9]])"
      ]
     },
     "execution_count": 229,
     "metadata": {},
     "output_type": "execute_result"
    }
   ],
   "source": [
    "arr2 = np.arange(0,10).reshape(2,5)\n",
    "arr2"
   ]
  },
  {
   "cell_type": "code",
   "execution_count": 231,
   "id": "f4a201b4-d5fa-4bac-bbf5-d7b6dd0cac07",
   "metadata": {},
   "outputs": [
    {
     "data": {
      "text/plain": [
       "array([[ 0,  1,  4,  9, 16],\n",
       "       [25, 36, 49, 64, 81]])"
      ]
     },
     "execution_count": 231,
     "metadata": {},
     "output_type": "execute_result"
    }
   ],
   "source": [
    "arr1*arr2 ## If the shape of the two array are equal then multiplication is possible "
   ]
  },
  {
   "cell_type": "code",
   "execution_count": 233,
   "id": "68a6efec-bbf5-4997-9565-efe106981fe1",
   "metadata": {},
   "outputs": [
    {
     "data": {
      "text/plain": [
       "array([[1, 1, 1, 1, 1],\n",
       "       [1, 1, 1, 1, 1]])"
      ]
     },
     "execution_count": 233,
     "metadata": {},
     "output_type": "execute_result"
    }
   ],
   "source": [
    "np.ones((2,5),dtype=int)"
   ]
  },
  {
   "cell_type": "code",
   "execution_count": 239,
   "id": "4be7f750-4d58-4852-9c40-fedd7489483e",
   "metadata": {},
   "outputs": [
    {
     "data": {
      "text/plain": [
       "array([[0.81248399, 0.88310435, 0.61887623],\n",
       "       [0.76244176, 0.41427751, 0.42117491],\n",
       "       [0.58327398, 0.49132025, 0.14010126]])"
      ]
     },
     "execution_count": 239,
     "metadata": {},
     "output_type": "execute_result"
    }
   ],
   "source": [
    "# random distribution\n",
    "np.random.rand(3,3)"
   ]
  },
  {
   "cell_type": "code",
   "execution_count": 241,
   "id": "97ac7e6b-1b3d-462b-8674-1c690eb36614",
   "metadata": {},
   "outputs": [],
   "source": [
    "arr_ex=np.random.randn(4,4)\n"
   ]
  },
  {
   "cell_type": "code",
   "execution_count": 243,
   "id": "819005f0-067f-45b5-9bd3-e94ee5840a9c",
   "metadata": {},
   "outputs": [
    {
     "data": {
      "text/plain": [
       "array([[ 0.4363111 , -1.23575595,  1.18764982,  0.17887148],\n",
       "       [-0.66515761,  0.87269394,  0.90793571, -1.50873913],\n",
       "       [-0.81920011, -0.36217216,  0.83559342,  0.42394551],\n",
       "       [ 0.25810163,  0.40462731,  0.28722006,  1.04824212]])"
      ]
     },
     "execution_count": 243,
     "metadata": {},
     "output_type": "execute_result"
    }
   ],
   "source": [
    "arr_ex"
   ]
  },
  {
   "cell_type": "code",
   "execution_count": 245,
   "id": "1025a878-dc03-447f-af0c-8b0527f81abe",
   "metadata": {},
   "outputs": [],
   "source": [
    "import seaborn as sns\n",
    "import pandas as pd"
   ]
  },
  {
   "cell_type": "code",
   "execution_count": 247,
   "id": "2f3ee416-e6c2-47d4-8a9f-c6dff41b092e",
   "metadata": {},
   "outputs": [
    {
     "name": "stderr",
     "output_type": "stream",
     "text": [
      "C:\\Users\\rites\\AppData\\Local\\Temp\\ipykernel_24708\\1832295236.py:1: UserWarning: \n",
      "\n",
      "`distplot` is a deprecated function and will be removed in seaborn v0.14.0.\n",
      "\n",
      "Please adapt your code to use either `displot` (a figure-level function with\n",
      "similar flexibility) or `histplot` (an axes-level function for histograms).\n",
      "\n",
      "For a guide to updating your code to use the new functions, please see\n",
      "https://gist.github.com/mwaskom/de44147ed2974457ad6372750bbe5751\n",
      "\n",
      "  sns.distplot(pd.DataFrame(arr_ex.reshape(16,1)))\n"
     ]
    },
    {
     "data": {
      "text/plain": [
       "<Axes: ylabel='Density'>"
      ]
     },
     "execution_count": 247,
     "metadata": {},
     "output_type": "execute_result"
    },
    {
     "data": {
      "image/png": "[encoded data removed]",
      "text/plain": [
       "<Figure size 640x480 with 1 Axes>"
      ]
     },
     "metadata": {},
     "output_type": "display_data"
    }
   ],
   "source": [
    "sns.distplot(pd.DataFrame(arr_ex.reshape(16,1)))"
   ]
  },
  {
   "cell_type": "code",
   "execution_count": 253,
   "id": "ebbff587-c2e3-4384-b7b7-5caccec0c3e5",
   "metadata": {},
   "outputs": [
    {
     "data": {
      "text/plain": [
       "array([[91, 41],\n",
       "       [59, 95],\n",
       "       [53, 59],\n",
       "       [71, 74]])"
      ]
     },
     "execution_count": 253,
     "metadata": {},
     "output_type": "execute_result"
    }
   ],
   "source": [
    "np.random.randint(0,100,8).reshape(4,2)"
   ]
  },
  {
   "cell_type": "code",
   "execution_count": 255,
   "id": "05091a04-a669-4a29-a37f-9c32aec78b27",
   "metadata": {},
   "outputs": [
    {
     "data": {
      "text/plain": [
       "array([[0.23992863, 0.00545303, 0.49953732, 0.61074167, 0.13899306]])"
      ]
     },
     "execution_count": 255,
     "metadata": {},
     "output_type": "execute_result"
    }
   ],
   "source": [
    "np.random.random_sample((1,5))"
   ]
  },
  {
   "cell_type": "code",
   "execution_count": null,
   "id": "8181d2b2-00eb-4ff4-b7b3-87197ee5508c",
   "metadata": {},
   "outputs": [],
   "source": [
    "Method\n",
    "Description\n",
    "\n",
    "append()\n",
    "Adds an element at the end of the list\n",
    "\n",
    "clear()\n",
    "Removes all the elements from the list\n",
    "\n",
    "copy()\n",
    "Returns a copy of the list\n",
    "\n",
    "count()\n",
    "Returns the number of elements with the specified value\n",
    "\n",
    "extend()\n",
    "Add the elements of a list (or any iterable), to the end of the current list\n",
    "\n",
    "index()\n",
    "Returns the index of the first element with the specified value\n",
    "\n",
    "Insert()\n",
    "Adds an element at the specified position\n",
    "\n",
    "pop()\n",
    "Removes the element at the specified position\n",
    "\n",
    "remove()\n",
    "Removes the first item with the specified value\n",
    "\n",
    "reverse()\n",
    "Reverses the order of the list\n",
    "\n",
    "sort()\n",
    "Sorts the list"
   ]
  }
 ],
 "metadata": {
  "kernelspec": {
   "display_name": "Python 3 (ipykernel)",
   "language": "python",
   "name": "python3"
  },
  "language_info": {
   "codemirror_mode": {
    "name": "ipython",
    "version": 3
   },
   "file_extension": ".py",
   "mimetype": "text/x-python",
   "name": "python",
   "nbconvert_exporter": "python",
   "pygments_lexer": "ipython3",
   "version": "3.12.4"
  }
 },
 "nbformat": 4,
 "nbformat_minor": 5
}
